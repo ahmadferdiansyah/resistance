{
 "cells": [
  {
   "cell_type": "code",
   "execution_count": 1,
   "metadata": {},
   "outputs": [
    {
     "name": "stdout",
     "output_type": "stream",
     "text": [
      "R1:15\n",
      "R2:10\n",
      "R3:9\n",
      "Seri : 34.0\n",
      "Paralel : 3.5999999999999996\n"
     ]
    }
   ],
   "source": [
    "def Seri(R1,R2,R3) :\n",
    "    return R1+R2+R3\n",
    "\n",
    "def Paralel(R1,R2,R3) :\n",
    "    return 1/(1/R1+1/R2+1/R3)\n",
    "\n",
    "R1 = float(input('R1:'))\n",
    "R2 = float(input('R2:'))\n",
    "R3 = float(input('R3:'))\n",
    "\n",
    "print('Seri : '+ str(Seri(R1,R2,R3)))\n",
    "print('Paralel : '+ str(Paralel(R1,R2,R3)))\n"
   ]
  },
  {
   "cell_type": "code",
   "execution_count": null,
   "metadata": {},
   "outputs": [],
   "source": []
  },
  {
   "cell_type": "code",
   "execution_count": null,
   "metadata": {},
   "outputs": [],
   "source": []
  }
 ],
 "metadata": {
  "kernelspec": {
   "display_name": "Python 3",
   "language": "python",
   "name": "python3"
  },
  "language_info": {
   "codemirror_mode": {
    "name": "ipython",
    "version": 3
   },
   "file_extension": ".py",
   "mimetype": "text/x-python",
   "name": "python",
   "nbconvert_exporter": "python",
   "pygments_lexer": "ipython3",
   "version": "3.7.3"
  }
 },
 "nbformat": 4,
 "nbformat_minor": 2
}
